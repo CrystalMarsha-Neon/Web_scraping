{
 "cells": [
  {
   "cell_type": "code",
   "execution_count": 1,
   "metadata": {},
   "outputs": [
    {
     "name": "stderr",
     "output_type": "stream",
     "text": [
      "C:\\Users\\User\\Anaconda3\\lib\\site-packages\\requests\\__init__.py:91: RequestsDependencyWarning: urllib3 (1.26.8) or chardet (3.0.4) doesn't match a supported version!\n",
      "  RequestsDependencyWarning)\n"
     ]
    }
   ],
   "source": [
    "import requests\n",
    "import json\n",
    "from tqdm import tqdm"
   ]
  },
  {
   "cell_type": "markdown",
   "metadata": {},
   "source": [
    "# API Get Link Scraping"
   ]
  },
  {
   "cell_type": "code",
   "execution_count": 2,
   "metadata": {},
   "outputs": [
    {
     "name": "stdout",
     "output_type": "stream",
     "text": [
      "2\n"
     ]
    }
   ],
   "source": [
    "#input data page\n",
    "page = int(input())"
   ]
  },
  {
   "cell_type": "code",
   "execution_count": 3,
   "metadata": {},
   "outputs": [],
   "source": [
    "#link untuk hit api dengan input page\n",
    "link = 'http://localhost:8001/crystal/get_link_scraping?page=%s' %page\n",
    "headers =  {\n",
    "    'accept': 'application/json', \n",
    "    'X-Api-Token': 'dev'\n",
    "}\n",
    "fetch_content = requests.post(link, headers=headers)"
   ]
  },
  {
   "cell_type": "code",
   "execution_count": 4,
   "metadata": {},
   "outputs": [
    {
     "name": "stdout",
     "output_type": "stream",
     "text": [
      "Success\n",
      "200\n",
      "https://finance.detik.com/bursa-dan-valas/d-5912724/cuan-sawit-emiten-ini-bayar-bunga-utang-obligasi-ke-bank-of-new-york\n",
      "https://finance.detik.com/bursa-dan-valas/d-5915558/dicaplok-bni-bank-mayorabakal-jadi-digital\n",
      "https://finance.detik.com/berita-ekonomi-bisnis/d-5911234/ekonomi-dibayangi-omicron-ppkm-perlu-diperketat-lagi\n",
      "https://finance.detik.com/lainnya/d-5909462/ada-lowongan-cpns-buat-kerja-di-bumn-serbu-nih\n",
      "https://finance.detik.com/berita-ekonomi-bisnis/d-5908045/itdc-tunjuk-pembalap-priandhi-satria-jadi-dirut-mgpa\n",
      "https://finance.detik.com/berita-ekonomi-bisnis/d-5915964/jokowi-hingga-tony-blair-bakal-kumpul-di-acara-ini\n",
      "https://finance.detik.com/bursa-dan-valas/d-5911607/simak-20-emiten-dipantau-khusus-bei-ada-garuda-indonesia\n",
      "https://finance.detik.com/properti/d-5913886/bangun-ibu-kota-pakai-apbn-utang-ri-makin-buncit\n",
      "https://finance.detik.com/properti/d-5914560/ancaman-bengkaknya-utang-di-tengah-pindahnya-ibu-kota-ri\n",
      "https://finance.detik.com/berita-ekonomi-bisnis/d-5911001/omicron-menyebar-cepat-vaksinasi-harus-dipercepat\n",
      "https://finance.detik.com/berita-ekonomi-bisnis/d-5910989/dihantui-omicron-ekonomi-2022-diramal-masih-labil\n",
      "https://finance.detik.com/berita-ekonomi-bisnis/d-5907485/koster-beberkan-alasan-finance-track-g20-dipindah-ke-jakarta\n",
      "https://finance.detik.com/berita-ekonomi-bisnis/d-5907655/finance-track-dipindah-ke-jakarta-koster-pastikan-bali-lokasi-utama-g20\n",
      "https://finance.detik.com/berita-ekonomi-bisnis/d-5913380/erick-thohir-minta-telkom-cs-lirik-metaverse-nft\n",
      "https://finance.detik.com/properti/d-5913767/ekonom-sebut-pindah-ibu-kota-tak-ada-positifnya-awas-apbn-makin-tekor\n",
      "https://finance.detik.com/properti/d-5911987/masih-panjang-pindah-ibu-kota-ke-nusantara-diprediksi-bisa-30-tahun\n",
      "https://finance.detik.com/berita-ekonomi-bisnis/d-5914878/bocoran-gaji-karyawan-unilever-manager-bisa-sampai-rp-33-juta\n",
      "https://finance.detik.com/fintech/d-5911871/lengkap-ini-daftar-229-kripto-yang-bisa-diperdagangkan-di-ri\n"
     ]
    }
   ],
   "source": [
    "if fetch_content.status_code == 200:    \n",
    "    urls = json.loads(fetch_content.content.decode())\n",
    "    print(urls[\"message\"])\n",
    "    print(urls[\"status\"])\n",
    "\n",
    "for i in urls['data']['link']:\n",
    "    print(i)"
   ]
  },
  {
   "cell_type": "markdown",
   "metadata": {},
   "source": [
    "# API Get Content Scraping"
   ]
  },
  {
   "cell_type": "code",
   "execution_count": 5,
   "metadata": {},
   "outputs": [
    {
     "name": "stdout",
     "output_type": "stream",
     "text": [
      "2\n"
     ]
    }
   ],
   "source": [
    "#input data page\n",
    "page = int(input())"
   ]
  },
  {
   "cell_type": "code",
   "execution_count": 6,
   "metadata": {},
   "outputs": [],
   "source": [
    "#link untuk hit api dengan input page\n",
    "link = 'http://localhost:8001/crystal/get_data_scraping?page=%s' %page\n",
    "headers =  {\n",
    "    'accept': 'application/json', \n",
    "    'X-Api-Token': 'dev'\n",
    "}\n",
    "fetch_content = requests.post(link, headers=headers)"
   ]
  },
  {
   "cell_type": "code",
   "execution_count": 7,
   "metadata": {},
   "outputs": [
    {
     "name": "stdout",
     "output_type": "stream",
     "text": [
      "============================================================================================================================\n",
      "status: 200\n",
      "message: database input success\n",
      "title: Cuan Sawit, Emiten Ini Bayar Bunga Utang Obligasi ke Bank of New York\n",
      "author: Danang Sugianto - detikFinance\n",
      "date: Senin, 24 Jan 2022 20:30 WIB\n",
      "content: Jakarta -  PT Sawit Sumbermas Sarana Tbk (SSMS) telah melaksanakan pembayaran bunga kupon obligasi sejumlah US$ 11.625 juta atau setara dengan Rp 167 miliar pada tanggal 21 Januari 2022. Bunga obligasi itu dibayarkan kepada Bank of New York Mellon, cabang New York.Chief Finance Officer (CFO) SSMS Jap Hartono menyampaikan, pembayaran kupon tahap pertama tahun ini merupakan komitmen dan kewajiban SSMS terkait penerbitan obligasi global melalui anak Perusahaan senilai US$ 300 juta pada awal tahun 2018.\"Kinerja operasional dan profil financial SSMS sangat baik, sehingga sangat memungkinkan Perseroan memenuhi segala kewajibannya, terutama dalam pembayaran kupon obligasi tersebut,\" kata Hartono dalam keterangan tertulisnya, Senin (24/1/2022).    googletag.cmd.push(function() { googletag.display('div-gpt-ad-1618601354128-0'); });  Baca juga: Dear KPPU, Pengusaha Bantah Terlibat Kartel Bikin Harga Minyak Goreng MahalSedangkan posisi kas dan setara kas per kuartal III 2021, emiten sawit yang rajin tebar dividen itu tercatat senilai Rp1,71 triliun. Untuk posisi aset, SSMS tercatat memiliki Rp13,39 triliun atau mengalami pertumbuhan 5 persen dari akhir tahun 2020 sebesar Rp12,77 triliun.SSMS memandang optimis tahun 2022 ini akan mendulang pencapaian baik seperti tahun sebelumnya, karena menurut data GAPKI harga CPO pada awal triwulan tahun ini diperkirakan masih cukup tinggi. Dari sisi produksi CPO Perseroan juga mengatakan adanya peningkatan sampai akhir tahun ini.Baca juga: Ada Kartel di Balik Tingginya Harga Minyak Goreng? Pengusaha Buka SuaraObligasi SSMS yang diterbitkan pada 23 Januari 2018 lalu ini memiliki tenor selama 5 tahun, yaitu 2018 - 2023 dengan pembayaran pokok obligasi dilakukan secara penuh pada saat jatuh tempo dengan tingkat suku bunga sebesar 7,75% per tahun, dengan kupon obligasi yang dibayarkan sebanyak 2 kali per tahun.Bersambung ke halaman selanjutnya.        Selanjutnya Halaman                1                            2            obligasi ssms emiten sawit\n",
      "============================================================================================================================\n",
      "status: 200\n",
      "message: database input success\n",
      "title: Dicaplok BNI, Bank MayoraÂ Bakal Jadi Digital\n",
      "author: Sylke Febrina Laucereno - detikFinance\n",
      "date: Rabu, 26 Jan 2022 15:50 WIB\n",
      "content: Jakarta - PT Bank Negara Indonesia Tbk (BNI) akan melakukan aksi korporasi dengan mencaplok PT Bank Mayora. Nantinya BNI akan menguasai 63,92% saham atau 1,19 miliar lembar saham Bank Mayora.Dalam rencana BNI proses pencaplokan ini akan disetujui saat Rapat Umum Pemegang Saham (RUPS) pada 15 Maret mendatang.Direktur Utama BNI Royke Tumilaar mengungkapkan jika Bank Mayora akan dijadikan bank digital yang fokus melayani Usaha Mikro Kecil dan Menengah (UMKM).    googletag.cmd.push(function() { googletag.display('div-gpt-ad-1618601354128-0'); });  \"Bank Mayora ini disiapkan untuk menjadi bank digital dan fokus ke UMKM,\" kata dia dalam konferensi pers paparan kinerja BNI, Rabu (26/1/2022).Dia mengungkapkan saat ini UMKM berpotensi sangat besar dan belum tergarap oleh BNI. Digitalisasi ini membuat biayanya bisa ditekan.Dalam proses akuisisi ini, BNI akan menggandeng partner lain yang sudah memiliki ekosistem besar di sektor FMCG dan Bank Mayora diarahkan menggarap segmen tersebut.Baca juga: Bank Mulai Ancang-ancang Hadapi Kenaikan Suku Bunga AcuanNamun Royke belum mengungkap nama baru Bank Mayora, hal ini karena proses akuisisi masih dalam proses persetujuan.Dia mengatakan, jika proses seluruhnya telah rampung maka BNI akan mulai melakukan branding dan menyiapkan model bisnis dan bisa terjun ke pasar pada tahun ini.Dilansir dari prospektus yang diterbutkan ini rencana pengambilalihan Bank Mayora dilakukan melalui penerbitan 1,03 miliar saham baru. Jumlah itu mewakili sekitar 54,9% dari seluruh saham yang telah ditempatkan dan disetor dalam Bank Mayora.Bank BNI juga mengambil alih 169,08 juta saham Bank Mayora milik International Finance Corporation (IFC). Sehingga secara total Bank BNI akan memegang hampir sekitar 1,19 miliar saham atau setara 63,92% dari total saham yang ditempatkan dan disetor dalam Bank Mayora.Setelah proses ambil alih ini, 63,92% saham Bank Mayora oleh BNI, Mayora Inti Utama yang sebelumnya menggenggam saham mayoritas akan tinggal menguasai 36,08% saham lainnya.Pembiayaan pengambilalihan Bank Mayora itu, akan didanai dari internal Bank BNI yang berasal dari laba ditahan (retained earnings) atau kekayaan BNI.Baca juga: BNI Bukukan Laba Bersih Rp 10,89 T di 2021, Melesat 232%Lihat juga video 'CT Perkenalkan Allo Bank Saat Buka Perdagangan Pasar Saham di BEI': [Gambas:Video 20detik](kil/das)bni bank mayora bank digital\n",
      "============================================================================================================================\n",
      "status: 200\n",
      "message: database input success\n",
      "title: Ekonomi Dibayangi Omicron, PPKM Perlu Diperketat Lagi?\n",
      "author: Anisa Indraini - detikFinance\n",
      "date: Senin, 24 Jan 2022 06:30 WIB\n",
      "content: Jakarta -  Indonesia dibayangi kemungkinan lonjakan kasus COVID-19 varian Omicron. Penularannya tak terelakkan karena berlangsung sangat cepat di seluruh dunia, termasuk Indonesia.Direktur Eksekutif Institute for Development on Economics and Finance (INDEF), Tauhid Ahmad menilai pemberlakuan pembatasan kegiatan masyarakat (PPKM) perlu diperketat lagi. Meskipun, pelaksanaannya tidak harus sampai level 4.\"Sekarang harus sudah diperketat saya kira. Misalnya Jakarta kasusnya sudah mulai meningkat tajam dan sebagainya ini kan sangat sensitif, tetapi memang naiknya kan tidak harus langsung ke level 4, ini mungkin bertahap,\" kata Tauhid, Minggu (23/1/2022).    googletag.cmd.push(function() { googletag.display('div-gpt-ad-1618601354128-0'); });  Baca juga: BI Pede Omicron Nggak Bakal Ganggu Pemulihan Ekonomi RIKenaikan kasus ini disebut perlu dilihat lebih lanjut apakah berasal dari transmisi lokal atau luar negeri. Jika transmisi lokal menyumbang kenaikan besar, maka pengetatan wajib terutama untuk mobilitas yang sifatnya horizontal antar wilayah.\"Kalau transmisinya dari luar negeri maka yang diperketat misalnya masa karantina diperlama, termasuk katakanlah menghindari kita bepergian ke luar negeri. Saya kira ini harus lebih diperketat lagi terutama transmisi dari penerbangan internasional,\" tuturnya.Baca juga: Waspada Omicron, Luhut Minta Vaksin Booster Digeber di JabodetabekHal yang sama juga dikatakan Direktur Eksekutif Center of Reform on Economics (CORE) Indonesia, Mohammad Faisal. Menurutnya, upaya tracking (pelacakan), tracing (penelusuran), dan testing (pengujian) perlu ditingkatkan dalam mendeteksi sebaran kasus COVID-19.\"Kewaspadaannya memang harus ditingkatkan. Segala peraturan SOP harus lebih ketat lagi walaupun tidak meningkatkan level PPKM untuk saat sekarang, tapi SOP perlu lebih ditingkatkan lagi terutama pada area tertentu yang disinyalir merupakan paling rawan dari sisi penyebaran Omicron,\" tuturnya.Begitu juga dengan perjalanan luar negeri yang perlu diperketat lagi dalam hal tracking, tracing dan testing. \"Perlu diperketat, tapi saya rasa belum perlu untuk sampai pada tahap penutupan bandara,\" imbuhnya.Vaksinasi perlu dipercepat. Cek halaman berikutnya.Simak juga 'Anggaran Rp 451 Triliun Disiapkan untuk Pemulihan Ekonomi 2022': [Gambas:Video 20detik]        Selanjutnya Halaman                1                            2            omicron covid-19 ekonomi ppkm\n",
      "============================================================================================================================\n",
      "status: 200\n",
      "message: database input success\n",
      "title: Ada Lowongan 'CPNS' buat Kerja di 'BUMN', Serbu Nih!\n",
      "author: Tim detikcom - detikFinance\n",
      "date: Sabtu, 22 Jan 2022 12:15 WIB\n"
     ]
    },
    {
     "name": "stdout",
     "output_type": "stream",
     "text": [
      "content: Jakarta - Ada lowongan 'Calon Pegawai Nagita Slavina' (CPNS) untuk bekerja di 'Badan Usaha Milik Nagita' (BUMN). Buruan serbu!.\"Mau ikut seleksi CPNS 2022 tapi sudah dihapus? Tenang, masih ada seleksi CPNS 'Calon Pegawai Nagita Slavina' nih!\" bunyi unggahan di akun resmi RANS, Kamis (20/1/2022).Daftar Lowongan 'CPNS' di 'BUMN':Product Assistant- Maximum 25 tahun- Minimum S1/Bachelor's Degree- Diutamakan bagi yang berpengalaman di bidang broadcasting- Punya pengetahuan dan keterampilan mengoperasikan kamera- Mamahami proses kreatif produksi dari mulai pre-production sampai post-production- Komunikatif setra bisa bekerja secara individual ataupun dalam tim- Disiplin dan berkelakuan baik    googletag.cmd.push(function() { googletag.display('div-gpt-ad-1618601354128-0'); });  Baca juga: Serbu! Google Indonesia Buka 24 Lowongan Kerja NihSocial Media Officer- Maximum 25 tahun- Minimum S1/Bachelor's Degree- Diutamakan punya latar belakang pendidikan bidang Psikologi- Kreatif dan percaya diri- Punya keterampilan copywriting yang baik dan mampu berfikir di luar kotak- Update dengan tren baru sosial media- Punya ketertarikan tinggi di digital creative- Punya pengetahuan dan keterampilan untuk mengoperasikan semua aplikasi media sosial- Disiplin dan berkelakuan baikGraphic Designer- Maximum 25 tahun- Minimum S1/Bachelor's Degree- Punya selera yang bagus dalam dunia visual dan desain- Kreatif, artsy dan percaya diri- Punya keterampilan copywriting yang baik dan mampu berfikir di luar kotak- Punya ketertarikan tinggi di desain grafis- Punya pengetahuan dan keterampilan untuk mengoperasikan adobe photoshop, illustrator dan after effect- Komunikatif setra bisa bekerja secara individual ataupun dalam tim- Disiplin dan berkelakuan baikBaca juga: BUMN Ini Lagi Buka Lowongan buat Lulusan SMK Nih, Cek Syaratnya!Accounting Senior Officer- Laki-laki/Perempuan- Maximum 28 tahun- Minimum S1/Bachelor's Degree- Berpengalaman minimal 3 tahun di bidang yang sama- Menguasai Standar Akuntansi Keuangan (SAK)- Menguasai Komputer (MS. Office)- Komunikatif setra bisa bekerja secara individual ataupun dalam tim- Bisa bekerja di bawah tekananFinance Officer- Perempuan- Maximum 27 tahun- Minimum S1/Bachelor's Degree- Berpengalaman minimal 2 tahun di bidang yang sama- Menguasai Komputer (MS. Office)- Bisa bekerja di bawah tekanan(ara/ara)raffi ahmad nagita slavina lowongan kerja loker tips loker\n",
      "============================================================================================================================\n",
      "status: 200\n",
      "message: database input success\n",
      "title: ITDC Tunjuk Pembalap Priandhi Satria Jadi Dirut MGPA\n",
      "author: Achmad Dwi Afriyadi - detikFinance\n",
      "date: Jumat, 21 Jan 2022 11:00 WIB\n",
      "content: Jakarta - PT Pengembangan Pariwisata Indonesia (Persero)/Indonesia Tourism Development Corporation (ITDC) melakukan perubahan susunan direksi pada anak usahanya Mandalika Grand Prix Association (MGPA). Dalam perubahan direksi ini, Ricky Baheramsjah digantikan oleh Priandhi Satria sebagai Direktur Utama.Priandhi sendiri memiliki pengalaman sebagai pembalap, builder, maupun promotor berbagai event balap di Tanah Air. Selain aktif di dunia balap, Priandhi Satria juga banyak berkecimpung di dunia media.Direktur Utama ITDC Abdulbar M Mansoer mengatakan, perubahan direksi ini dilakukan untuk mendukung gelaran MotoGP 2022.    googletag.cmd.push(function() { googletag.display('div-gpt-ad-1618601354128-0'); });  \"MotoGP Grand Prix of Indonesia (MotoGP) 2022 adalah event otomotif roda dua terbesar dunia yang lebih menantang dibandingkan event balap FIM MOTUL Superbike World Championship (WSBK) yang berlangsung November tahun lalu. Oleh karena itu, guna memastikan persiapan berjalan baik dan penyelenggaraan berjalan sukses, ITDC sebagai induk perusahaan MGPA, memandang perlu melakukan penguatan organisasi MGPA dengan melakukan perubahan susunan pengurus,\" katanya dalam keterangan tertulis, Jumat (21/1/2022).\"Saat ini secara resmi kami telah menetapkan susunan pengurus MGPA yang baru. Susunan pengurus baru ini dipimpin oleh Bapak Priandhi Satria yang memiliki pengalaman dan pemahaman yang luas dalam bidang balap, baik dari segi bisnis, pengorganisasian maupun penyiapan fasilitas fisik. Dengan susunan pengurus MGPA yang baru, kami optimistis persiapan dan penyelenggaraan seluruh event-event balap di tahun 2022 ini bisa berjalan dengan lebih baik dan matang,\" imbuh Abdulbar.Baca juga: Ingat! Pakai Logo MotoGP Tak Bisa Sembarangan, Ini SyaratnyaSebagai informasi, sepanjang 2022, Pertamina Mandalika Circuit yang berada di The Mandalika akan menjadi tuan rumah sejumlah event balap, antara lain Mandalika MotoGP Official pada 11-13 Februari 2022, MotoGP pada 18-20 Maret 2022, GT World Challenge Asia pada 21-23 Oktober 2022, dan WSBK pada 11-13 November 2022, serta beberapa event internasional maupun nasional lainnya yang dalam tahap finalisasi.\"Kami mengucapkan apresiasi setinggi-tingginya kepada direksi lama yang telah berhasil menyelenggarakan WSBK 2021 yang merupakan event balap motor kelas dunia pertama yang berlangsung di Indonesia sejak 1997 di Sirkuit Sentul. Kami berharap jajaran pengurus baru MGPA dapat meneruskan prestasi ini dan bahkan memberikan yang lebih bagus lagi. Mari kita jadikan momen ini sebagai tonggak untuk mengharumkan nama Indonesia di kancah balap motor dunia,\" tutup Abdulbar.Berikut susunan direksi MGPA:- Direktur Utama Priandhi Satria- Wakil Direktur Utama Cahyadi Wanda- Direktur Finance Aji Munarwiyanto- Direktur Technical and Operation Samsul PurbaBaca juga: Jokowi Setuju Penonton MotoGP Jadi 100.000, Ini SebabnyaLihat juga video 'Dorna Tidak Terima Aturan Karantina, Bagaimana Nasib MotoGP Mandalika?': [Gambas:Video 20detik](acd/eds)motogp itdc mandalika mgpa\n",
      "============================================================================================================================\n",
      "status: 200\n",
      "message: database input success\n",
      "title: Jokowi hingga Tony Blair Bakal Kumpul di Acara Ini\n",
      "author: Achmad Dwi Afriyadi - detikFinance\n",
      "date: Rabu, 26 Jan 2022 19:45 WIB\n"
     ]
    },
    {
     "name": "stdout",
     "output_type": "stream",
     "text": [
      "content: Jakarta - Kamar Dagang dan Industri (Kadin) Indonesia akan menggelar pertemuan pendahuluan atau B20 Inception Meeting dengan semua delegasi anggota G20 di Jakarta, 27-28 Januari 2022. Acara ini sebagai penanda dimulainya Presidensi B20 Indonesia Summit 2022.Pertemuan perdana B20 Indonesia 2022 ini akan dihadiri oleh 1.500 peserta dari negara-negara anggota G20 yang terdiri dari para pemimpin bisnis, pejabat tinggi pemerintah, asosiasi bisnis dan akan diisi oleh beberapa pembicara utama yang membahas isu-isu prioritas ekonomi global. Ketua Umum Kadin Indonesia Arsjad Rasjid yang juga Penanggung Jawab Presidensi B20, mengatakan forum B20 Indonesia 2022 ini mengambil tema Kemajuan Inovatif, Inklusif dan Pertumbuhan Kolaboratif yang sejalan dengan G20. Tujuannya, mengarah pada stimulus pemulihan yang lebih kuat dan berkelanjutan bagi semua negara melalui forum bersama dengan komunitas bisnis internasional yang akan merekomendasikan kebijakan.Dalam acara Inception Meeting B20 ini, Presiden Joko Widodo (Jokowi) dijadwalkan hadir untuk membuka acara sekaligus memberikan arahan mengenai tiga isu prioritas yang harus dibawa di B20, yakni Global Health Architecture, Digital Transformation dan Energi Transition. Selain Jokowi, Menko Perekonomian, Airlangga Hartarto juga akan menjadi salah satu pembicara kunci dalam pertemuan pendahuluan ini.    googletag.cmd.push(function() { googletag.display('div-gpt-ad-1618601354128-0'); });  Airlangga nantinya akan membahas mengenai rencana dan prioritas Indonesia untuk kepresidenan G20 dan menyoroti mengenai pentingnya Forum B20 dalam kaitannya dengan G20.Baca juga: Pengumuman! Jokowi Bebaskan Bea Materai Dokumen Wakaf-Hibah\"Pemerintah menginginkan Forum B20 ini sebagai titik lompatan Indonesia keluar dari krisis ekonomi. Pasalnya, forum ini akan mempertemukan pemimpin bisnis perusahaan multinasional, organisasi dan komunitas bisnis dari seluruh negara anggota G20 yang akan memberikan rumusan dan masukan mengenai pemulihan ekonomi di masa pandemi,\" jelas Arsjad dalam keterangannya, Rabu (26/1/2022).Shinta Kamdani, Ketua Umum dan WKU Koordinator Maritim, Investasi dan Luar Negeri sekaligus Ketua Penyelenggara B20 pastikan beberapa petinggi delegasi yang akan hadir menjadi pembicara kunci diantaranya adalah mantan Perdana Menteri Inggris yang juga Ketua Eksekutif Institut Tony Blair untuk Perubahan Global, Tony Blair. Serta, Profesor Klaus Schwab, Pendiri sekaligus Ketua Eksekutif World Economic Forum.Tony Blair akan membahas hal penting seputar kesehatan global untuk mengakhiri pandemi saat ini dan bagaimana upaya bersama untuk mencegah munculnya pandemi di masa yang akan datang. Sementara Prof Klaus akan membahas mengenai peran penting kolaborasi dan inovasi berbagai pemangku kepentingan untuk mengatasi problem-problem dunia.Selain itu, Dr Kishore Mahbubani dari Institut Riset Asia di National University of Singapore juga akan memberikan kata pengantar di acara ini mengenai perubahan konteks geopolitik akibat pandemi dan implikasi dari perubahan ini terhadap bisnis serta rekomendasi kebijakan apa yang harus diperhatikan oleh grup B20.Sementara itu dalam Fireside Discussion pada topik inovasi dan keberlanjutan akan dihadiri oleh Brad Smith (President & Vice-Chairman Microsoft), Joseph C Tsai (Executive Vice Chairman Alibaba), Michael R Bloomberg (Founder of Bloomberg LP), Alok Sharma (President of COP26), Amin H Nasser (President & CEO of Saudi Aramco) dan Mark Carney (UN Special Envoy on Climate Action and Finance).Baca juga: Jalan Panjang RI 'Rebut' Ruang Udara Natuna dari Singapura, Butuh 6 TahunSimak Video \"Arsjad Rasjid Tak Pernah Terpikirkan Jadi Ketum Kadin\"[Gambas:Video 20detik](acd/das)kadin jokowi tony blair\n",
      "============================================================================================================================\n",
      "status: 200\n",
      "message: database input success\n",
      "title: Simak! 20 Emiten Dipantau Khusus BEI, Ada Garuda Indonesia\n",
      "author: Aulia Damayanti - detikFinance\n",
      "date: Senin, 24 Jan 2022 11:07 WIB\n",
      "content: Jakarta - Bursa Efek Indonesia (BEI) merilis daftar terbaru perusahaan yang masuk pemantauan khusus. Ada 20 perusahaan yang dipantau khusus oleh BEI.Dalam pengumuman terbaru, dikutip Senin (24/1/2022) BEI mengumumkan PT Temas Tbk statusnya sudah keluar dari pemantauan khusus BEI.\"Dengan Bursa mengumumkan Pencabutan Efek Bersifat Ekuitas Dari Pemantauan Khusus PT Temas Tbk. Perubahan ini mulai efektif pada tanggal 24 Januari 2022,\" tulis pengumuman BEI.    googletag.cmd.push(function() { googletag.display('div-gpt-ad-1618601354128-0'); });  Baca juga: Garuda Punya Waktu Bereskan Polemik Utang hingga 21 Maret 2022Dengan keluarnya PT Temas Tbk, maka perusahaan yang masih dalam pemantauan khusus BEI, menjadi 20 perusahaan.Daftar 20 emiten yang dipantau BEI:1. PT Batavia Prosperindo Trans Tbk (BPTR)2. PT Envy Technologies Indonesia Tbk (ENVY)3. PT Garuda Indonesia (Persero) Tbk (GIAA)4. PT Garuda Maintenance Facility Aero Asia Tbk (GMFI)5. PT Golden Plantation Tbk (GOLL)6. PT Garda Tujuh Buana Tbk (GTBO)7. PT Intan Baruprana Finance Tbk (IBFN)8. PT Intraco Penta Tbk (INTA)9. PT Darmi Bersaudara Tbk (KAYU)10. PT Kertas Basuki Rachmat Indonesia Tbk (KBRI)11. Leyand International Tbk12. PT Marga Abhinaya Abadi Tbk13. PT Magna Investama Mandiri Tbk14. PT MNC Studios International Tbk15. PT Mitra Pemuda Tbk16. PT Protech Mitra Perkasa Tbk17. ONIX CAPITAL Tbk18. Pelangi Indah Canindo Tbk19. PT Pollux Properti Indonesia Tbk20. PT Tridomain Performance Materials TbkLihat juga video 'CT Perkenalkan Allo Bank Saat Buka Perdagangan Pasar Saham di BEI': [Gambas:Video 20detik](ara/ara)bei garuda indonesia emiten\n",
      "============================================================================================================================\n",
      "status: 200\n",
      "message: database input success\n",
      "title: Bangun Ibu Kota Pakai APBN, Utang RI Makin Buncit?\n",
      "author: Danang Sugianto - detikFinance\n",
      "date: Selasa, 25 Jan 2022 16:03 WIB\n",
      "content: Jakarta -  Pemindahan Ibu Kota Negara (IKN) dari Jakarta ke Kalimantan diperkirakan akan menghabiskan biaya Rp 466 triliun. Dana tersebut sebagian akan berasal dari APBN, yang dikhawatirkan akan berdampak pada sisi beban utang.Direktur Center of Economic and Law Studies (Celios) Bhima Yudhistira menjelaskan pemindahan IKN memang memiliki sisi positif ke sektor konstruksi. Sebab akan ada pembangunan besar-besaran\"Kontribusi sektor konstruksi secara nasional sebesar 10,3% dari PDB, sementara spesifik di Kalimantan Timur kontribusinya mencapai 8,8% dari PDB bahkan bisa mencapai 10-11% pada saat proses konstruksi dimulai. Tapi sisi negatifnya juga banyak,\" terangnya saat dihubungi detikcom, Selasa (25/1/2022).    googletag.cmd.push(function() { googletag.display('div-gpt-ad-1618601354128-0'); });  Baca juga: Menteri PUPR Bongkar Rencana 2022 ke DPR, Tak Singgung Ibu Kota BaruBhima menilai sisi negatif dari pemindahan IKN adalah beban utang negara yang diperkirakan akan semakin meningkat. Sebab pembangunan di IKN baru akan lebih dominan melibatkan pendanaan dari APBN.\"Memang klaim pemerintah rencana pendanaan bersumber dari investasi. Tapi data menunjukkan rata-rata keterlibatan swasta misalnya KPBU di proyek infrastruktur cukup rendah, kisaran 7%\" tuturnya.Selain dari APBN, pembiayaan pembangunan IKN direncanakan juga menggunakan skema KPBU (Kerjasama Pemerintah dan Badan Usaha), skema swasta dan BUMN/D.Namun menurut Bhima pembangunan gedung pemerintah juga dianggap kurang menarik bagi investor karena tidak bersifat komersial. Adapun investor mungkin lebih tertarik ke sarana pelengkap seperti perumahan, apartemen, hotel atau fasilitas kesehatan.Lanjut halaman berikutnya.        Selanjutnya Halaman                1                            2            utang ibu kota ibu kota baru\n",
      "============================================================================================================================\n",
      "status: 200\n",
      "message: database input success\n",
      "title: Ancaman Bengkaknya Utang di Tengah Pindahnya Ibu Kota RI\n",
      "author: Danang Sugianto - detikFinance\n",
      "date: Rabu, 26 Jan 2022 06:51 WIB\n"
     ]
    },
    {
     "name": "stdout",
     "output_type": "stream",
     "text": [
      "content: Jakarta -  Kritik tentang rencana perpindahan Ibu Kota Negara (IKN) terus bermunculan sejak UU IKN disahkan. Rencana besar yang digagas pemerintahan Presiden Joko Widodo (Jokowi) dipandang memiliki dampak negatif, terutama dari sisi keuangan negara.Pemindahan IKN dari Jakarta ke Kalimantan Timur diperkirakan menghabiskan biaya Rp 466 triliun. Dana tersebut sebagian akan berasal dari APBN, yang dikhawatirkan berdampak pada sisi beban utang.Direktur Center of Economic and Law Studies (Celios) Bhima Yudhistira menjelaskan pemindahan IKN memang memiliki sisi positif ke sektor konstruksi. Sebab akan ada pembangunan besar-besaran    googletag.cmd.push(function() { googletag.display('div-gpt-ad-1618601354128-0'); });  \"Kontribusi sektor konstruksi secara nasional sebesar 10,3% dari PDB, sementara spesifik di Kalimantan Timur kontribusinya mencapai 8,8% dari PDB bahkan bisa mencapai 10-11% pada saat proses konstruksi dimulai. Tapi sisi negatifnya juga banyak,\" terangnya saat dihubungi detikcom, Selasa (25/1/2022).Baca juga: Hasil Polling: Pembaca Menilai PNS Siap Pindah ke Ibu Kota BaruBhima menilai sisi negatif dari pemindahan IKN adalah beban utang negara yang diperkirakan semakin meningkat. Sebab pembangunan di IKN baru akan lebih dominan melibatkan pendanaan dari APBN.\"Memang klaim pemerintah rencana pendanaan bersumber dari investasi. Tapi data menunjukkan rata-rata keterlibatan swasta misalnya KPBU di proyek infrastruktur cukup rendah, kisaran 7%,\" tuturnya.Selain dari APBN, pembiayaan pembangunan IKN juga direncanakan menggunakan skema KPBU (Kerjasama Pemerintah dan Badan Usaha), swasta, dan BUMN/D.Namun menurut Bhima pembangunan gedung pemerintah juga dianggap kurang menarik bagi investor karena tidak bersifat komersial. Adapun investor mungkin lebih tertarik ke sarana pelengkap seperti perumahan, apartemen, hotel atau fasilitas kesehatan.Lihat juga video 'Ibu Kota Baru di Kalimantan Dinilai Rawan Terdampak Konflik China-AS': [Gambas:Video 20detik]Pemindahan IKN dinilai dipaksakan. Cek halaman berikutnya.        Selanjutnya Halaman                1                            2            ibu kota negara ibu kota baru nusantara utang\n",
      "============================================================================================================================\n",
      "status: 200\n",
      "message: database input success\n",
      "title: Omicron Menyebar Cepat, Vaksinasi Harus Dipercepat!\n",
      "author: Anisa Indraini - detikFinance\n",
      "date: Minggu, 23 Jan 2022 19:45 WIB\n",
      "content: Jakarta - Virus COVID-19 varian Omicron telah menyebar dengan cepat di seluruh dunia termasuk Indonesia. Penularannya tak terelakkan karena berlangsung sangat cepat.Direktur Eksekutif Institute for Development on Economics and Finance (INDEF), Tauhid Ahmad mendorong pemerintah mempercepat vaksinasi regular terlebih dahulu sebelum mendorong booster. Pasalnya masih ada masyarakat yang belum divaksin sama sekali.\"Sebelum booster dilakukan, saya kira vaksin yang regular harus dituntaskan terlebih dahulu. Misalnya DKI Jakarta masih berapa persen sih yang belum kena vaksin sama sekali, itu harus dikejar,\" kata Tauhid saat dihubungi, Minggu (23/1/2022).    googletag.cmd.push(function() { googletag.display('div-gpt-ad-1618601354128-0'); });  Baca juga: Dihantui Omicron, Ekonomi 2022 Diramal Masih LabilHal yang sama juga dikatakan oleh Direktur Eksekutif Center of Reform on Economics (CORE) Indonesia, Mohammad Faisal. Vaksinasi regular harus lebih ditingkatkan.\"Pada saat yang sama memang vaksinnya perlu dipercepat bukan hanya booster sebenarnya karena sebagian juga masih banyak yang belum komplit vaksinasinya, jadi itu harus ditingkatkan,\" tuturnya.Masyarakat yang belum divaksin akan lebih rentan terkena COVID-19 apalagi dengan adanya varian Omicron. Hal itu terbukti satu di antara dua pasien COVID-19 varian Omicron yang meninggal dunia belum disuntik vaksin.\"Kalau sudah ada vaksin 1 dan 2 kan lebih survive, tapi kalau ada yang nggak kena vaksin, dampaknya jauh lebih besar,\" tuturnya.Baca juga: Dua Pasien Omicron RI Meninggal, PPKM Perlu Diperketat Lagi?Sebagai informasi, per Kamis (20/1) pukul 18.00 WIB jumlah masyarakat yang sudah divaksin dosis kedua baru 122.625.654 orang atau 58,88% dari total target sasaran vaksinasi. Sementara itu, jumlah masyarakat yang sudah disuntik vaksin dosis pertama yakni sebanyak 179.400.503 orang atau 86,14%.(aid/dna)omicron dampak corona dampak virus corona pandemi virus corona ekonomi ri\n",
      "============================================================================================================================\n",
      "status: 200\n",
      "message: database input success\n",
      "title: Dihantui Omicron, Ekonomi 2022 Diramal Masih Labil\n",
      "author: Anisa Indraini - detikFinance\n",
      "date: Minggu, 23 Jan 2022 17:46 WIB\n",
      "content: Jakarta - Pandemi COVID-19 masih menjadi faktor ketidakpastian bagi perekonomian global maupun nasional di 2022. Meskipun, tren saat ini sudah berada pada jalur pemulihan.\"Saya rasa di 2022 masih ada risiko COVID, jadi masih ada faktor ketidakpastian di sisi ekonominya karena COVID-nya masih ada,\" kata Direktur Eksekutif Center of Reform on Economics (CORE) Indonesia, Mohammad Faisal saat dihubungi Minggu (23/1/2022).Apalagi kasus COVID-19 di Indonesia kembali mengalami lonjakan sejak awal Januari 2022 seiring merebaknya varian Omicron. Dampaknya ke ekonomi akan sangat bergantung dari bagaimana pemerintah menyikapi kenaikan kasus tersebut.    googletag.cmd.push(function() { googletag.display('div-gpt-ad-1618601354128-0'); });  \"Semestinya dari sisi ekonomi tidak banyak menganggu karena tidak langsung direspons secara dengan peningkatan PPKM, penutupan akses mobilitas. Kalau itu diperlakukan, akan mengganggu jalannya perekonomian,\" tuturnya.Baca juga: Dua Pasien Omicron RI Meninggal, PPKM Perlu Diperketat Lagi?Direktur Eksekutif Institute for Development on Economics and Finance (INDEF), Tauhid Ahmad menambahkan bahwa terganggunya ekonomi sudah jadi konsekuensi dari pengetatan mobilitas karena kenaikan kasus COVID-19. Untuk itu, pemerintah diminta melakukan tindakan mitigasi.\"Semakin tinggi level PPKM maka semakin tinggi pula dampaknya ke ekonomi. Untuk itu memang harus ada tindakan mitigasi secara ekonomi itu yang harus dilakukan seperti apa,\" bebernya.Baca juga: Dana Bansos Rp 2,7 T Dikabarkan Tertahan di Bank BUMN, Ini Kata BRITindakan mitigasi secara ekonomi yang dimaksud salah satunya adalah mempercepat realisasi program pemulihan ekonomi nasional (PEN).\"Skenario PEN harus sudah mulai dijalankan di awal-awal sehingga saat PPKM naik, hambatan sosial ekonomi dan mobilitas fisik bertambah, pemerintah sudah siap lakukan itu,\" imbuhnya.(aid/dna)omicron ekonomi ekonomi ri\n",
      "============================================================================================================================\n",
      "status: 200\n",
      "message: database input success\n",
      "title: Koster Beberkan Alasan Finance Track G20 Dipindah ke Jakarta\n",
      "author: Sui Suadnyana - detikFinance\n",
      "date: Kamis, 20 Jan 2022 20:45 WIB\n"
     ]
    },
    {
     "name": "stdout",
     "output_type": "stream",
     "text": [
      "content: Denpasar -  Gubernur Bali Wayan Koster membeberkan alasan pertemuan finance track G20 dipindah ke Jakarta. Wayan Koster menjelaskan terdapat dua pertemuan dalam rangkaian finance track G20.Pertemuan pertama tuan rumahnya adalah Bank Indonesia yang sudah diselenggarakan di Bali pada awal Desember 2021.\"(Pertemuan pertama) berlangsung dengan sukses. Tapi karena ada Omicron pesertanya berkurang setengahnya. Dari rencana semula sekitar 160 peserta berkurang menjadi sekitar hampir 80 peserta. Berkurang kira-kira 50 persen yang datang langsung ke Bali. Yang lain ikut secara virtual,\" terang Koster dalam konferensi pers di rumah jabatannya, Kamis (20/1/2022).    googletag.cmd.push(function() { googletag.display('div-gpt-ad-1618601354128-0'); });  Pertemuan finance track G20 kedua tuan rumahnya adalah Kementerian Keuangan (Kemenkeu), dan awalnya memang direncanakan di Jakarta. Namun, saat pertemuan finance track G20 yang pertama Desember 2021, para ingin pertemuan kedua berlangsung Bali.Usulan tersebut disampaikan karena melihat suasana kondusif di Pulau Dewata.\"Kemudian (pertemuan finance track G20 yang kedua) direncanakan memang di Bali bulan Februari. Persiapan pun sudah dilakukan, secara manajerial,\" ujar Koster.Baca juga: Pelaku Pariwisata Bali Kecewa Agenda Finance Track G20 Dipindah ke JakartaTapi, karena sekarang ada perkembangan kasus COVID-19 Omicron yang meningkat di sejumlah negara, maka tentunya harus menjadi pertimbangan bagi pemerintahPertimbangan itu antara lain sisi kenyamanan dan keamanan para peserta berkaitan persyaratan untuk karantina. Selain itu juga terkait persyaratan mengikuti pertemuan di Bali harus transit dulu di Jakarta.\"Tidak ada penerbangan yang langsung ke Bali sehingga harus transit di Jakarta, dan kedatangan antar satu negara dengan negara negara yang lain itu berbeda-beda. Jadi hub kedatangannya itu memang di Jakarta. Kalau harus transit lama di Jakarta dan kemudian harus karantina cukup lama di Jakarta, ini tentu membuat para peserta itu akan kurang nyaman,\" terang Koster.\"Itulah sebabnya pertimbangan kenyamanan bagi para peserta dari segi karantina maupun juga dari segi transitnya tang cukup lama, maka supaya tidak terlalu mengganggu kenyamanan para peserta pertemuan dipindahkan di Jakarta,\" sambung Koster.Bersambung ke halaman berikutnya. Langsung klik        Selanjutnya Halaman                1                            2            g20 finance track g20 indonesia wayan koster gubernur bali biromakassar\n",
      "============================================================================================================================\n",
      "status: 200\n",
      "message: database input success\n",
      "title: Finance Track Dipindah ke Jakarta, Koster Pastikan Bali Lokasi Utama G20\n",
      "author: Sui Suadnyana - detikFinance\n",
      "date: Kamis, 20 Jan 2022 23:09 WIB\n",
      "content: Denpasar -  Agenda Finance Track G20 dipindah lokasinya, dari Bali ke Jakarta. Gubernur Bali Wayan Koster meminta pelaku sektor pariwisata tidak heboh, gundah dan panik menyikapi agenda Finance Track G20 yang dipindah ke Jakarta.\"Saya mengimbau masyarakat di Bali dan terutama sekali para pelaku pariwisata tidak perlu heboh, tidak perlu gundah, tidak perlu panik, satu pertemuan ini dipindah dari Bali ke Jakarta. Tidak perlu dijadikan sebagai suatu isu yang berlebihan yang tidak pada tempatnya,\" kata Koster saat konferensi pers di rumah jabatannya, Kamis (20/1/2022).Menurut Koster, keputusan pemerintah pusat dalam hal ini oleh Kementerian Keuangan (Kemenkeu) yang memindahkan pertemuan finance track ke Jakarta tentu sudah didasarkan pada pertimbangan yang sangat matang.    googletag.cmd.push(function() { googletag.display('div-gpt-ad-1618601354128-0'); });  \"Menurut saya itu adalah suatu keputusan yang terbaik yang dilakukan oleh pemerintah pusat. Dan kita wajib mendukungnya. Saya sebagai gubernur tentu sudah mendukung itu, karena itu sudah merupakan keputusan terbaik dengan pertimbangan teknis dan juga non teknis,\" terang Koster.Baca juga: Koster Beberkan Alasan Finance Track G20 Dipindah ke JakartaKoster mengajak masyarakat untuk memahami keputusan tersebut dengan bijaksana. Ia juga meminta kepada siapapun, termasuk berbagaj oknum untuk tidak mengeluarkan statemen yang membuat gaduh di masyarakat dan menyebabkan situasi yang kurang kondusif.\"Saya kira ini harus menjadi kesadaran kita bersama. Jangan pertemuan yang dipindahkan ke Jakarta satu ini dijadikan isu yang berlebihan supaya suasana kita di masyarakat tetap nyaman, aman dan kondusif untuk aktivitas kita di lokal Bali,\" pintanya.Koster menilai, suksesnya persiapan sampai penyelenggaraan G20 agar benar-benar berjalan sesuai dengan jadwal merupakan tanggungjawab bersama. Pelaksana KTT G20 ini bakal dipimpin langsung oleh Presiden Joko Widodo (Jokowi).\"Masyarakat Bali semua saya ajak wajib untuk mendukung apapun kebijakan dari pemerintah pusat sebagai suatu keputusan terbaik yang dilakukan agar pertemuan G20 betul-betul berjalan dengan nyaman, aman damai dan sukses,\" ungkapnya.Bali tetap lokasi utama G20. Langsung klik halaman berikutnya        Selanjutnya Halaman                1                            2            g20 finance track g20 indonesia g20 2022 wayan koster biromakassar\n",
      "============================================================================================================================\n",
      "status: 200\n",
      "message: database input success\n",
      "title: Erick Thohir Minta Telkom Cs Lirik Metaverse-NFT\n",
      "author: Achmad Dwi Afriyadi - detikFinance\n",
      "date: Selasa, 25 Jan 2022 12:27 WIB\n",
      "content: Jakarta - Menteri BUMN Erick Thohir menaruh perhatian pada perkembangan ekonomi digital. Pihaknya mendorong PT Telkom Indonesia Tbk atau Telkom dan anak usahanya PT Telekomunisasi Seluler (Telkomsel) untuk mengikuti perkembangan terkini.Erick mengatakan, akan mendorong Telkom untuk fokus dalam pengembangan infrastruktur digital.\"Telkom kita dorong B to B salah satu tadi yang disampaikan bagaimana pembangunan tower, kedua fokus kepada data center i-Cloud dan lain-lainnya,\" katanya dalam rapat kerja dengan Komisi VI, Selasa (25/1/2022).    googletag.cmd.push(function() { googletag.display('div-gpt-ad-1618601354128-0'); });  Kemudian, Telkomsel akan didorong fokus kepada konsumen sebagai jembatan dengan metaverse, game finance (GameFi) dan lain sebagainya.\"Untuk Telkomsel sendiri lebih kenapa B to C yaitu tadi menyambung yang namanya metaverse, GameFI dan lain-lain itu yang para kreator ini. Itulah kenapa Telkomsel lebih kepada B to C, customer karena kita harus menyeimbangi pertumbuhan daripada tadi kreator-kreator yang sekarang ada di anak muda Indonesia tapi jenis hasilnya berbeda lagi,\" terangnya.Baca juga: Tak Masuk Holding Pangan, Bulog Fokus Jadi Pengendali HargaErick pun menjelaskan, persaingan ekonomi digital semakin hari semakin keras. Dia bilang, ekonomi digital terbukti telah mendesentralisasi daripada sendi-sendi keuangan secara masif. Menurutnya, hal ini menjadi tantangan karena mengancam dari sisi mata uang.\"Untuk sebuah negara akhirnya ancamannya adalah di mana mata uangnya, atau keuangannya sudah tidak dipegang oleh negara tapi dipegang oleh pihak-pihak lain yang bisa lebih besar dari negara. Nah ini yang perlu diantisipasi,\" ujarnya.Di sisi lain, ekonomi digital menjadi penolong bagi para kreator untuk menjual karyanya. Salah satunya, melalui non fungible token (NFT).\"Kalau dulu ibarat para pelukis Indonesia menjual lukisan satu dan yang lainnya, ketika pembelian pertama ya pelukis itu mendapatkan, tapi penjualan kedua, ketiga dan keempat para pelukis tidak mendapatkan apa-apa. Di sinilah fungsi NFT sebagai bagian daripada desentralisasi finance ketika para kreator atau para pencipta ini terus mendapatkan hasil karyanya,\" jelasnya.Baca juga: Erick Thohir Mau Bikin Wisata Desa Jadi Primadona, Caranya?Simak juga video 'Ini Loh Caranya NFT Laku Seperti Ghozali Everyday': [Gambas:Video 20detik](acd/eds)erick thohir telkom metaverse nft\n",
      "============================================================================================================================\n",
      "status: 200\n",
      "message: database input success\n",
      "title: Ekonom Sebut Pindah Ibu Kota Tak Ada Positifnya, Awas APBN Makin Tekor!\n",
      "author: Danang Sugianto - detikFinance\n"
     ]
    },
    {
     "name": "stdout",
     "output_type": "stream",
     "text": [
      "date: Selasa, 25 Jan 2022 15:11 WIB\n",
      "content: Jakarta -  Pemindahan ibu kota negara (IKN) dari Jakarta ke Kalimantan Timur tak sedikit menuai kritikan. Termasuk dari para ekonom yang menilai pemindahan IKN hanya menimbulkan hal negatif.Peneliti Institute for Development of Economics and Finance (Indef) Nailul Huda menganggap proses pemindahan ibu kota terlalu dipaksakan dan penuh kepentingan. Hal itu menurutnya terlihat dari proses pembentukan UU IKN yang begitu cepat.\"Penuh kepentingan dari pejabat sekaligus pengusaha nasional. Dengan pembahasan UU yang sangat cepat kemudian juga UU pemindahan ibu kota ini ditengarai ada keinginan dari investor untuk mendapatkan jaminan politik apabila ingin investasi di IKN baru,\" terangnya saat dihubungi detikcom, Selasa (25/1/2022).    googletag.cmd.push(function() { googletag.display('div-gpt-ad-1618601354128-0'); });  Baca juga: Anies Luncurkan Beras 'Anti Kerdil', Mau Beli?Huda juga menekankan, secara pribadi dia menilai pemindahan IKN dari Jakarta ke Kaltim tidak memiliki dampak positif. Sebab proses pemindahan dilakukan saat ekonomi RI masih dalam tahap pemulihan imbas pandemi COVID-19\"Dari saya pribadi, pemindahan ini hanya hal negatif. Pertama, pemerintah tidak memprioritaskan untuk penanganan pandemi dan pemulihan ekonomi nasional,\" terangnya.Belum lagi proses pemindahan IKN ini juga salah satunya memanfaatkan APBN. Padahal kondisi APBN sangat terbatas dan seharusnya diprioritaskan untuk pemulihan ekonomi.\"Apalagi tahun depan dan 2024, akan ada belanja pemilu yang alokasinya pasti cukup besar. Ditambah ada keharusan pemerintah untuk kembali ke defisit APBN terhadap PDB sebesar 3%,\" ucapnya.Lihat juga video 'Luhut Minta Faisal Basri Ungkap Data Tudingan Lubang Tambang dekat IKN': [Gambas:Video 20detik]        Selanjutnya Halaman                1                            2            ibu kota baru ikn ibu kota negara\n",
      "============================================================================================================================\n",
      "status: 200\n",
      "message: database input success\n",
      "title: Masih Panjang! Pindah Ibu Kota ke Nusantara Diprediksi Bisa 30 Tahun\n",
      "author: Aulia Damayanti - detikFinance\n",
      "date: Senin, 24 Jan 2022 14:26 WIB\n",
      "content: Jakarta - Pemerintah menargetkan pemindahan tahap awal ibu kota negara (IKN) baru ke Nusantara, Kalimantan Timur pada 2024. Rencananya pada 2024 diselenggarakan upacara peringatan kemerdekaan di Istana Negara yang baru.Direktur Eksekutif Institute for Development of Economics and Finance (Indef) Tauhid Ahmad mengatakan jika melihat Undang-Undang IKN yang telah disahkan, masih banyak pekerjaan rumah yang belum dipenuhi untuk memindahkan IKN 2024. Menurutnya IKN bisa mulai berpindah lebih dari 30 tahun lagi.\"Karena otoritas belum dibentuk maksimal dua bulan dibentuk, organisasi lembaganya, kantornya sekretariatnya, planner-nya butuh waktu merekrut banyak orang dan ahli perencana dan sebagainya. Kita melihat UU tersebut, nggak akan cepat untuk memindahkan IKN bisa 10 bahkan lebih panjang 30 tahun lebih,\" ucanya kepada detikcom, Senin (24/1/2022).    googletag.cmd.push(function() { googletag.display('div-gpt-ad-1618601354128-0'); });  Baca juga: Seberapa Mendesak Proyek Ibu Kota Baru Saat Ekonomi-Pandemi Belum Pulih?Selain itu, proyek ibu kota baru juga dianggap bukan solusi dalam pemulihan ekonomi negara yang masih dihadapkan dengan ancaman varian Omicron. Saat ini seharusnya pemerintah memikirkan ancaman Omicron di samping mengantisipasi dampaknya ke perekonomian.\"Dengan demikian, urgensi dari IKN ini tidak mendesak dan tidak bisa dilakukan pada 2024. Dengan ancaman inflasi dan Omicron bisa jadi kemungkinan anggaran negara juga bisa bertambah,\" ujarnya.Selain itu, dari segi perekonomian, sumbangsih IKN baru terhadap pertumbuhan ekonomi hanya sebesar 0,02%. Apa lagi tingkat pertumbuhan penduduk diprediksi masih lebih besar di Pulau Jawa.\"Ekonomi kita ini 58% tumbuh karena konsumsi, konsumsi ini ekuivalen dengan jumlah penduduk, Sedangkan urbanisasi diprediksi akan makin besar di pulau Jawa. Konsepnya Kalimantan ini dibangun pemerintahan bukan pindah ekonomi,\" ucapnya.Baca juga: Istana Negara di Nusantara Rampung 2024, Ini Kesiapan hingga FasilitasnyaUntuk saat ini, jika pemerintah ingin meningkatkan perekonomian Kalimantan Timur harus dibangun pusat-pusat perekonomiannya dan infrastruktur.\"Misalnya di sana industri migas, industri perkebunan, pertambangan, industrialisasi yang dibangun. Kemudian dibangun infrastrukturnya, pelabuhannya. Itu yang dibangun bukan Ibu Kota Negara baru,\" tutupnya.(ara/ara)ibu kota baru ibu kota pindah nusantara\n",
      "============================================================================================================================\n",
      "status: 200\n",
      "message: database input success\n",
      "title: Bocoran Gaji Karyawan Unilever, Manager Bisa Sampai Rp 33 Juta\n",
      "author: Achmad Dwi Afriyadi - detikFinance\n",
      "date: Rabu, 26 Jan 2022 10:48 WIB\n",
      "content: Jakarta - PT Unilever Indonesia Tbk (UNVR) merupakan salah satu perusahaan besar di Tanah Air. Tak heran, banyak orang yang ini bergabung alias bekerja di perusahaan tersebut.Harapannya, dengan nama besar tersebut mereka mendapat gaji yang besar pula. Lantas, berapa sih gaji di Unilever?Mengutip CNCB Indonesia, Rabu (26/1/2022), pada 2019 lalu Kelly Services merilis survei gaji pekerja di Indonesia bertajuk 'Indonesia 2019 Salary Guide'. Salah satu yang dimuat dalam laporan tersebut adalah sektor barang konsumsi atau Fast Moving Consumer Goods (FMCG).    googletag.cmd.push(function() { googletag.display('div-gpt-ad-1618601354128-0'); });  Merujuk riset Kelly Services, perusahaan yang masuk kategori FMCG menawarkan gaji yang cukup besar dibanding dengan perusahaan lain di industri layanan produk dan jasa konsumen.Baca juga: RI Mau Jadi Negara Maju? Bahlil: Kalau UMR Cuma Rp 5 Juta Nggak Mungkin!Berdasarkan tangkapan layar data tersebut, dewan direksi dengan pengalaman kerja lebih dari 15 tahun memiliki gaji mulai dari Rp 150 juta hingga Rp 315 juta per bulan. Sedangkan untuk posisi pimpinan teratas, yakni presiden direktur dapat memperoleh kisaran Rp 210 juta - Rp 420 juta per bulan.Sementara, untuk gaji terendah seperti document control dengan pengalaman 0-1 tahun yakni antara Rp 4,5 juta hingga Rp 5,5 juta per bulan. Kemudian disusul oleh akuntan dengan pengalaman lebih dari 3 tahun dengan gaji antara Rp 5,5 juta hingga Rp 11 juta per bulan dan marketing executive dengan pengalaman lebih dari 5 tahun antara Rp 5,5 juta-Rp 11 juta per bulan.Beberapa pekerjaan tercatat memiliki gaji lebih tinggi seperti area sales manager dengan pengalaman 15 tahun lebih yakni Rp 12 juta-Rp 25 juta per bulan, assistance finance manager pengalaman 7 tahun lebih yakni Rp 16 juta-Rp 22 juta dan brand manager pengalaman 7 tahun lebih Rp 16,5 juta-Rp 33 juta.Baca juga: Unilever Mau PHK Gede-gedean! 1.500 Karyawan Jadi KorbanLihat juga video 'Sejumlah Eks Pegawai BPPT Kena PHK, Komnas HAM Bakal Panggil BRIN': [Gambas:Video 20detik](acd/das)unilever unilever indonesia gaji\n",
      "============================================================================================================================\n",
      "status: 200\n",
      "message: database input success\n",
      "title: Lengkap! Ini Daftar 229 Kripto yang Bisa Diperdagangkan di RI\n",
      "author: Ignacio Geordi Oswaldo - detikFinance\n",
      "date: Senin, 24 Jan 2022 13:24 WIB\n"
     ]
    },
    {
     "name": "stdout",
     "output_type": "stream",
     "text": [
      "content: Jakarta -  Perdagangan kripto di Tanah Air kian berkembang. Melihat perkembangan ini, pemerintah secara resmi telah memberikan izin perdagangan untuk sejumlah mata uang digital atau kripto di Indonesia.Sebanyak 229 kripto diberikan lampu hijau agar bisa diperdagangkan di dalam negeri. Hal ini telah tertuang dalam Peraturan Badan Pengawas Perdagangan Berjangka Komoditi Nomor 7 Tahun 2020 tentang Penetapan Daftar Aset Kripto yang Dapat Diperdagangkan di Pasar Fisik Aset Kripto.\"Calon Pedagang Fisik Aset Kripto dan/atau Pedagang Fisik Aset Kripto hanya dapat memperdagangkan Aset Kripto di Pasar Fisik Aset Kripto yang telah ditetapkan oleh Kepala Bappebti dalam Daftar Aset Kripto yang dapat diperdagangkan di Pasar Fisik Aset Kripto,\" Tulis Pasal 1 Ayat 1 aturan tersebut dikutip Senin (24/1/2022).    googletag.cmd.push(function() { googletag.display('div-gpt-ad-1618601354128-0'); });  Baca juga: Saham Teknologi dan Kripto Ambyar, Elon Musk-Mark Zuckerberg Boncos GedeSebanyak 229 aset kripto telah mendapatkan izin dari Bappebti setelah memenuhi persyaratan yang telah ditentukan sebelumnya.\"Penetapan Daftar Aset Kripto yang dapat diperdagangkan di Pasar Fisik Aset Kripto setelah dinilai memenuhi persyaratan sebagai Aset Kripto yang dapat diperdagangkan di Pasar Fisik Aset Kripto sebagaimana telah diatur dalam Peraturan Bappebti yang mengatur mengenai Penyelenggaraan Pasar Fisik Aset Kripto di Bursa Berjangka,\" Tulis Pasal 1 Ayat 1 aturan tersebut.Sebanyak 229 aset yang mendapatkan izin ini diputuskan melalui upaya pendekatan secara yuridis (termasuk melihat peringkat 500 coin market cap/CMC) sesuai ketentuan Pasal 3 ayat (2) huruf c Perba Nomor 5 Tahun 2019.Baca juga: Ambyar! Harga Bitcoin Turun Hampir 10%Dengan diberikannya izin atas 229 aset kripto ini, maka Bappebti mewajibkan dilakukan delisting atas aset kripto lainnya yang tidak mendapatkan izin. Ini ditujukan untuk memberikan kepastian langkah penyelesaian jika terjadi masalah bagi pelanggan.Lalu mata uang kripto apa saja yang boleh diperdagangkan di Indonesia? Cek halaman berikutnya.        Selanjutnya Halaman                1                            2            kripto bitcoin bappebti\n"
     ]
    }
   ],
   "source": [
    "if fetch_content.status_code == 200:    \n",
    "    urls_content = json.loads(fetch_content.content.decode())\n",
    "    \n",
    "for i in urls_content['data']['latest_news']:\n",
    "    print('='*124)\n",
    "    print('status:',i['status'])\n",
    "    print('message:',i['message'])\n",
    "    print('title:',i['title'])\n",
    "    print('author:',i['author'])\n",
    "    print('date:',i['date'])\n",
    "    print('content:',i['content'])"
   ]
  },
  {
   "cell_type": "markdown",
   "metadata": {},
   "source": [
    "# API Get Data "
   ]
  },
  {
   "cell_type": "code",
   "execution_count": 37,
   "metadata": {},
   "outputs": [
    {
     "name": "stdout",
     "output_type": "stream",
     "text": [
      "5\n",
      "Achmad Dwi Afriyadi - detikFinance\n"
     ]
    }
   ],
   "source": [
    "no = str(input())\n",
    "author = str(input())"
   ]
  },
  {
   "cell_type": "code",
   "execution_count": 84,
   "metadata": {},
   "outputs": [],
   "source": [
    "#link untuk hit api\n",
    "link = 'http://localhost:8001/crystal/get_data_from_database'\n",
    "body = {\n",
    "  \"no\": \"\",\n",
    "  \"author\": \"Achmad Dwi Afriyadi - detikFinance\"\n",
    "}\n",
    "headers =  {\n",
    "    'accept': 'application/json', \n",
    "    'X-Api-Token': 'dev'\n",
    "}\n",
    "fetch_content = requests.post(link, json=json.dumps(body),headers=headers)"
   ]
  },
  {
   "cell_type": "code",
   "execution_count": 126,
   "metadata": {},
   "outputs": [
    {
     "name": "stdout",
     "output_type": "stream",
     "text": [
      "============================================================================================================================\n",
      "17\n",
      "Bocoran Gaji Karyawan Unilever, Manager Bisa Sampai Rp 33 Juta\n",
      "Achmad Dwi Afriyadi - detikFinance\n",
      "Rabu, 26 Jan 2022 10:48 WIB\n",
      "Jakarta - PT Unilever Indonesia Tbk (UNVR) merupakan salah satu perusahaan besar di Tanah Air. Tak heran, banyak orang yang ini bergabung alias bekerja di perusahaan tersebut.Harapannya, dengan nama besar tersebut mereka mendapat gaji yang besar pula. Lantas, berapa sih gaji di Unilever?Mengutip CNCB Indonesia, Rabu (26/1/2022), pada 2019 lalu Kelly Services merilis survei gaji pekerja di Indonesia bertajuk 'Indonesia 2019 Salary Guide'. Salah satu yang dimuat dalam laporan tersebut adalah sektor barang konsumsi atau Fast Moving Consumer Goods (FMCG).    googletag.cmd.push(function() { googletag.display('div-gpt-ad-1618601354128-0'); });  Merujuk riset Kelly Services, perusahaan yang masuk kategori FMCG menawarkan gaji yang cukup besar dibanding dengan perusahaan lain di industri layanan produk dan jasa konsumen.Baca juga: RI Mau Jadi Negara Maju? Bahlil: Kalau UMR Cuma Rp 5 Juta Nggak Mungkin!Berdasarkan tangkapan layar data tersebut, dewan direksi dengan pengalaman kerja lebih dari 15 tahun memiliki gaji mulai dari Rp 150 juta hingga Rp 315 juta per bulan. Sedangkan untuk posisi pimpinan teratas, yakni presiden direktur dapat memperoleh kisaran Rp 210 juta - Rp 420 juta per bulan.Sementara, untuk gaji terendah seperti document control dengan pengalaman 0-1 tahun yakni antara Rp 4,5 juta hingga Rp 5,5 juta per bulan. Kemudian disusul oleh akuntan dengan pengalaman lebih dari 3 tahun dengan gaji antara Rp 5,5 juta hingga Rp 11 juta per bulan dan marketing executive dengan pengalaman lebih dari 5 tahun antara Rp 5,5 juta-Rp 11 juta per bulan.Beberapa pekerjaan tercatat memiliki gaji lebih tinggi seperti area sales manager dengan pengalaman 15 tahun lebih yakni Rp 12 juta-Rp 25 juta per bulan, assistance finance manager pengalaman 7 tahun lebih yakni Rp 16 juta-Rp 22 juta dan brand manager pengalaman 7 tahun lebih Rp 16,5 juta-Rp 33 juta.Baca juga: Unilever Mau PHK Gede-gedean! 1.500 Karyawan Jadi KorbanLihat juga video 'Sejumlah Eks Pegawai BPPT Kena PHK, Komnas HAM Bakal Panggil BRIN': [Gambas:Video 20detik](acd/das)unilever unilever indonesia gaji\n",
      "https://akcdn.detik.net.id/community/media/visual/2016/05/10/ef13c6e7-ab90-4477-88a4-687fe2120913_169.jpg?w=700&q=90\n",
      "https://finance.detik.com/berita-ekonomi-bisnis/d-5914878/bocoran-gaji-karyawan-unilever-manager-bisa-sampai-rp-33-juta\n",
      "============================================================================================================================\n",
      "5\n",
      "ITDC Tunjuk Pembalap Priandhi Satria Jadi Dirut MGPA\n",
      "Achmad Dwi Afriyadi - detikFinance\n",
      "Jumat, 21 Jan 2022 11:00 WIB\n",
      "Jakarta - PT Pengembangan Pariwisata Indonesia (Persero)/Indonesia Tourism Development Corporation (ITDC) melakukan perubahan susunan direksi pada anak usahanya Mandalika Grand Prix Association (MGPA). Dalam perubahan direksi ini, Ricky Baheramsjah digantikan oleh Priandhi Satria sebagai Direktur Utama.Priandhi sendiri memiliki pengalaman sebagai pembalap, builder, maupun promotor berbagai event balap di Tanah Air. Selain aktif di dunia balap, Priandhi Satria juga banyak berkecimpung di dunia media.Direktur Utama ITDC Abdulbar M Mansoer mengatakan, perubahan direksi ini dilakukan untuk mendukung gelaran MotoGP 2022.    googletag.cmd.push(function() { googletag.display('div-gpt-ad-1618601354128-0'); });  \"MotoGP Grand Prix of Indonesia (MotoGP) 2022 adalah event otomotif roda dua terbesar dunia yang lebih menantang dibandingkan event balap FIM MOTUL Superbike World Championship (WSBK) yang berlangsung November tahun lalu. Oleh karena itu, guna memastikan persiapan berjalan baik dan penyelenggaraan berjalan sukses, ITDC sebagai induk perusahaan MGPA, memandang perlu melakukan penguatan organisasi MGPA dengan melakukan perubahan susunan pengurus,\" katanya dalam keterangan tertulis, Jumat (21/1/2022).\"Saat ini secara resmi kami telah menetapkan susunan pengurus MGPA yang baru. Susunan pengurus baru ini dipimpin oleh Bapak Priandhi Satria yang memiliki pengalaman dan pemahaman yang luas dalam bidang balap, baik dari segi bisnis, pengorganisasian maupun penyiapan fasilitas fisik. Dengan susunan pengurus MGPA yang baru, kami optimistis persiapan dan penyelenggaraan seluruh event-event balap di tahun 2022 ini bisa berjalan dengan lebih baik dan matang,\" imbuh Abdulbar.Baca juga: Ingat! Pakai Logo MotoGP Tak Bisa Sembarangan, Ini SyaratnyaSebagai informasi, sepanjang 2022, Pertamina Mandalika Circuit yang berada di The Mandalika akan menjadi tuan rumah sejumlah event balap, antara lain Mandalika MotoGP Official pada 11-13 Februari 2022, MotoGP pada 18-20 Maret 2022, GT World Challenge Asia pada 21-23 Oktober 2022, dan WSBK pada 11-13 November 2022, serta beberapa event internasional maupun nasional lainnya yang dalam tahap finalisasi.\"Kami mengucapkan apresiasi setinggi-tingginya kepada direksi lama yang telah berhasil menyelenggarakan WSBK 2021 yang merupakan event balap motor kelas dunia pertama yang berlangsung di Indonesia sejak 1997 di Sirkuit Sentul. Kami berharap jajaran pengurus baru MGPA dapat meneruskan prestasi ini dan bahkan memberikan yang lebih bagus lagi. Mari kita jadikan momen ini sebagai tonggak untuk mengharumkan nama Indonesia di kancah balap motor dunia,\" tutup Abdulbar.Berikut susunan direksi MGPA:- Direktur Utama Priandhi Satria- Wakil Direktur Utama Cahyadi Wanda- Direktur Finance Aji Munarwiyanto- Direktur Technical and Operation Samsul PurbaBaca juga: Jokowi Setuju Penonton MotoGP Jadi 100.000, Ini SebabnyaLihat juga video 'Dorna Tidak Terima Aturan Karantina, Bagaimana Nasib MotoGP Mandalika?': [Gambas:Video 20detik](acd/eds)motogp itdc mandalika mgpa\n",
      "https://akcdn.detik.net.id/community/media/visual/2022/01/21/direktur-utama-mgpa-priandhi-satria_169.jpeg?w=700&q=90\n",
      "https://finance.detik.com/berita-ekonomi-bisnis/d-5908045/itdc-tunjuk-pembalap-priandhi-satria-jadi-dirut-mgpa\n",
      "============================================================================================================================\n",
      "6\n",
      "Jokowi hingga Tony Blair Bakal Kumpul di Acara Ini\n",
      "Achmad Dwi Afriyadi - detikFinance\n",
      "Rabu, 26 Jan 2022 19:45 WIB\n"
     ]
    },
    {
     "name": "stdout",
     "output_type": "stream",
     "text": [
      "Jakarta - Kamar Dagang dan Industri (Kadin) Indonesia akan menggelar pertemuan pendahuluan atau B20 Inception Meeting dengan semua delegasi anggota G20 di Jakarta, 27-28 Januari 2022. Acara ini sebagai penanda dimulainya Presidensi B20 Indonesia Summit 2022.Pertemuan perdana B20 Indonesia 2022 ini akan dihadiri oleh 1.500 peserta dari negara-negara anggota G20 yang terdiri dari para pemimpin bisnis, pejabat tinggi pemerintah, asosiasi bisnis dan akan diisi oleh beberapa pembicara utama yang membahas isu-isu prioritas ekonomi global. Ketua Umum Kadin Indonesia Arsjad Rasjid yang juga Penanggung Jawab Presidensi B20, mengatakan forum B20 Indonesia 2022 ini mengambil tema Kemajuan Inovatif, Inklusif dan Pertumbuhan Kolaboratif yang sejalan dengan G20. Tujuannya, mengarah pada stimulus pemulihan yang lebih kuat dan berkelanjutan bagi semua negara melalui forum bersama dengan komunitas bisnis internasional yang akan merekomendasikan kebijakan.Dalam acara Inception Meeting B20 ini, Presiden Joko Widodo (Jokowi) dijadwalkan hadir untuk membuka acara sekaligus memberikan arahan mengenai tiga isu prioritas yang harus dibawa di B20, yakni Global Health Architecture, Digital Transformation dan Energi Transition. Selain Jokowi, Menko Perekonomian, Airlangga Hartarto juga akan menjadi salah satu pembicara kunci dalam pertemuan pendahuluan ini.    googletag.cmd.push(function() { googletag.display('div-gpt-ad-1618601354128-0'); });  Airlangga nantinya akan membahas mengenai rencana dan prioritas Indonesia untuk kepresidenan G20 dan menyoroti mengenai pentingnya Forum B20 dalam kaitannya dengan G20.Baca juga: Pengumuman! Jokowi Bebaskan Bea Materai Dokumen Wakaf-Hibah\"Pemerintah menginginkan Forum B20 ini sebagai titik lompatan Indonesia keluar dari krisis ekonomi. Pasalnya, forum ini akan mempertemukan pemimpin bisnis perusahaan multinasional, organisasi dan komunitas bisnis dari seluruh negara anggota G20 yang akan memberikan rumusan dan masukan mengenai pemulihan ekonomi di masa pandemi,\" jelas Arsjad dalam keterangannya, Rabu (26/1/2022).Shinta Kamdani, Ketua Umum dan WKU Koordinator Maritim, Investasi dan Luar Negeri sekaligus Ketua Penyelenggara B20 pastikan beberapa petinggi delegasi yang akan hadir menjadi pembicara kunci diantaranya adalah mantan Perdana Menteri Inggris yang juga Ketua Eksekutif Institut Tony Blair untuk Perubahan Global, Tony Blair. Serta, Profesor Klaus Schwab, Pendiri sekaligus Ketua Eksekutif World Economic Forum.Tony Blair akan membahas hal penting seputar kesehatan global untuk mengakhiri pandemi saat ini dan bagaimana upaya bersama untuk mencegah munculnya pandemi di masa yang akan datang. Sementara Prof Klaus akan membahas mengenai peran penting kolaborasi dan inovasi berbagai pemangku kepentingan untuk mengatasi problem-problem dunia.Selain itu, Dr Kishore Mahbubani dari Institut Riset Asia di National University of Singapore juga akan memberikan kata pengantar di acara ini mengenai perubahan konteks geopolitik akibat pandemi dan implikasi dari perubahan ini terhadap bisnis serta rekomendasi kebijakan apa yang harus diperhatikan oleh grup B20.Sementara itu dalam Fireside Discussion pada topik inovasi dan keberlanjutan akan dihadiri oleh Brad Smith (President & Vice-Chairman Microsoft), Joseph C Tsai (Executive Vice Chairman Alibaba), Michael R Bloomberg (Founder of Bloomberg LP), Alok Sharma (President of COP26), Amin H Nasser (President & CEO of Saudi Aramco) dan Mark Carney (UN Special Envoy on Climate Action and Finance).Baca juga: Jalan Panjang RI 'Rebut' Ruang Udara Natuna dari Singapura, Butuh 6 TahunSimak Video \"Arsjad Rasjid Tak Pernah Terpikirkan Jadi Ketum Kadin\"[Gambas:Video 20detik](acd/das)kadin jokowi tony blair\n",
      "https://akcdn.detik.net.id/community/media/visual/2022/01/18/presiden-jokowi-2_169.jpeg?w=700&q=90\n",
      "https://finance.detik.com/berita-ekonomi-bisnis/d-5915964/jokowi-hingga-tony-blair-bakal-kumpul-di-acara-ini\n",
      "============================================================================================================================\n",
      "14\n",
      "Erick Thohir Minta Telkom Cs Lirik Metaverse-NFT\n",
      "Achmad Dwi Afriyadi - detikFinance\n",
      "Selasa, 25 Jan 2022 12:27 WIB\n",
      "Jakarta - Menteri BUMN Erick Thohir menaruh perhatian pada perkembangan ekonomi digital. Pihaknya mendorong PT Telkom Indonesia Tbk atau Telkom dan anak usahanya PT Telekomunisasi Seluler (Telkomsel) untuk mengikuti perkembangan terkini.Erick mengatakan, akan mendorong Telkom untuk fokus dalam pengembangan infrastruktur digital.\"Telkom kita dorong B to B salah satu tadi yang disampaikan bagaimana pembangunan tower, kedua fokus kepada data center i-Cloud dan lain-lainnya,\" katanya dalam rapat kerja dengan Komisi VI, Selasa (25/1/2022).    googletag.cmd.push(function() { googletag.display('div-gpt-ad-1618601354128-0'); });  Kemudian, Telkomsel akan didorong fokus kepada konsumen sebagai jembatan dengan metaverse, game finance (GameFi) dan lain sebagainya.\"Untuk Telkomsel sendiri lebih kenapa B to C yaitu tadi menyambung yang namanya metaverse, GameFI dan lain-lain itu yang para kreator ini. Itulah kenapa Telkomsel lebih kepada B to C, customer karena kita harus menyeimbangi pertumbuhan daripada tadi kreator-kreator yang sekarang ada di anak muda Indonesia tapi jenis hasilnya berbeda lagi,\" terangnya.Baca juga: Tak Masuk Holding Pangan, Bulog Fokus Jadi Pengendali HargaErick pun menjelaskan, persaingan ekonomi digital semakin hari semakin keras. Dia bilang, ekonomi digital terbukti telah mendesentralisasi daripada sendi-sendi keuangan secara masif. Menurutnya, hal ini menjadi tantangan karena mengancam dari sisi mata uang.\"Untuk sebuah negara akhirnya ancamannya adalah di mana mata uangnya, atau keuangannya sudah tidak dipegang oleh negara tapi dipegang oleh pihak-pihak lain yang bisa lebih besar dari negara. Nah ini yang perlu diantisipasi,\" ujarnya.Di sisi lain, ekonomi digital menjadi penolong bagi para kreator untuk menjual karyanya. Salah satunya, melalui non fungible token (NFT).\"Kalau dulu ibarat para pelukis Indonesia menjual lukisan satu dan yang lainnya, ketika pembelian pertama ya pelukis itu mendapatkan, tapi penjualan kedua, ketiga dan keempat para pelukis tidak mendapatkan apa-apa. Di sinilah fungsi NFT sebagai bagian daripada desentralisasi finance ketika para kreator atau para pencipta ini terus mendapatkan hasil karyanya,\" jelasnya.Baca juga: Erick Thohir Mau Bikin Wisata Desa Jadi Primadona, Caranya?Simak juga video 'Ini Loh Caranya NFT Laku Seperti Ghozali Everyday': [Gambas:Video 20detik](acd/eds)erick thohir telkom metaverse nft\n",
      "https://akcdn.detik.net.id/community/media/visual/2021/11/29/menteri-bumn-ri-erick-thohir-telah-mengukuhkan-pengurus-baru-forum-humas-fh-bumn-periode-2021-2023_169.jpeg?w=700&q=90\n",
      "https://finance.detik.com/berita-ekonomi-bisnis/d-5913380/erick-thohir-minta-telkom-cs-lirik-metaverse-nft\n"
     ]
    }
   ],
   "source": [
    "if fetch_content.status_code == 200:    \n",
    "    get_data = json.loads(fetch_content.content.decode())   \n",
    "for i in get_data['data']['get_data']:\n",
    "    for j in i['_items']:\n",
    "        print('='*124)\n",
    "        for k in j:\n",
    "            print(k)"
   ]
  },
  {
   "cell_type": "markdown",
   "metadata": {},
   "source": [
    "# API Insert Data Using CSV"
   ]
  },
  {
   "cell_type": "code",
   "execution_count": 127,
   "metadata": {},
   "outputs": [],
   "source": [
    "#link untuk hit api dengan input page\n",
    "link = 'http://localhost:8001/crystal/insert_data_scraping_csv'\n",
    "body = {\n",
    "  \"file_location\": \"C:/Users/User/Downloads/de/News_Scraping/test_1.csv\"\n",
    "}\n",
    "headers =  {\n",
    "    'accept': 'application/json', \n",
    "    'X-Api-Token': 'dev'\n",
    "}\n",
    "fetch_content = requests.post(link,json=json.dumps(body), headers=headers)"
   ]
  },
  {
   "cell_type": "code",
   "execution_count": 128,
   "metadata": {},
   "outputs": [
    {
     "name": "stdout",
     "output_type": "stream",
     "text": [
      "============================================================================================================================\n",
      "status: 404\n",
      "message: data is already in database\n",
      "title: Seberapa Mendesak Proyek Ibu Kota Baru Saat Ekonomi-Pandemi Belum Pulih?\n",
      "author: Aulia Damayanti - detikFinance\n",
      "date: Senin, 24 Jan 2022 13:52 WIB\n",
      "content: Jakarta - Pemerintah Indonesia semakin serius membangun proyek Ibu Kota Negara (IKN) baru. Pembangunan ibu kota baru direncanakan menggunakan APBN.Direktur Eksekutif Institute for Development of Economics and Finance (Indef) Tauhid Ahmad mengatakan dalam segi perekonomian, sumbangsih IKN baru terhadap pertumbuhan ekonomi hanya sebesar 0,02%. Artinya tidak terlalu berdampak pada perekonomian nasional saat pemulihan ekonomi.Menurutnya, konsep pemindahan IKN baru ini hanya seperti pembangunan kota biasa. Apa lagi tingkat pertumbuhan penduduk diprediksi masih lebih besar di Pulau Jawa.\n",
      "    googletag.cmd.push(function() { googletag.display('div-gpt-ad-1618601354128-0'); });\n",
      "  \"Ekonomi kita ini 58% tumbuh karena konsumsi, konsumsi ini ekuivalen dengan jumlah penduduk, Sedangkan urbanisasi diprediksi akan makin besar di pulau Jawa. Konsepnya Kalimantan ini dibangun pemerintahan bukan pindah ekonomi,\" ujarnya kepada detikcom, Senin (24/1/2022).Baca juga: #WargaKalimantanBukanMonyet Menggema, Ini Alasan Kaltim Jadi Ibu Kota BaruIa mengatakan, jika ingin membangun perekonomian, maka bukan dengan pemindahan IKN melainkan meningkatkan industri dan infrastruktur di Kalimantan.Proyek ibu kota baru ini juga bukan termasuk solusi dalam membangun pertumbuhan ekonomi yang masih akan 'sakit' akibat pandemi dan ancaman Omicron. Selain ancaman Omicron, Indonesia juga dihadapkan dengan ancaman inflasi.Dihubungi terpisah, Direktur Center of Economic and Law Studies (Celios) Bhima Yudhistira mengatakan dari beragam studi, efek pembangunan IKN terhadap ekonomi sangat kecil di bawah 1% ke PDB. Menurutnya, jika tujuannya menyerap tenaga kerja bukan dengan membangun IKN sekarang.\"Lebih baik berikan insentif ke usaha UMKM secara lebih masif. 97% serapan tenaga kerja nasional ada di UMKM, bukan lewat pembangunan IKN. Lagi pula tenaga kerja yang diserap diperkirakan dominan datang dari pulau Jawa juga, bukan tenaga kerja di wilayah IKN,\" ucapnya.Baca juga: Polling: PNS Sudah Siap Pindah ke Ibu Kota Baru?Ia mengingatkan pemerintah jangan sampai proyek ibu kota baru malah menambah beban utang negara. Bhima juga menegaskan agar proyek ini ditunda terlebih dahulu dengan alasan defisit negara harus ditekan di bawah 3%.\"Pemerintah perlu juga pastikan bahwa utang di APBN tidak meningkat signifikan akibat kesalahan alokasi anggaran di IKN. Sekarang defisit APBN harus ditekan di bawah 3% tapi belanjanya boros untuk hal yang tidak berkaitan dengan pemulihan ekonomi. Ini jelas aneh,\" imbuhnya.(ara/ara)ibu kota baru ibu kota negara nusantara \n",
      "url: https://finance.detik.com/properti/belum-pulih/42424220\n",
      "============================================================================================================================\n",
      "status: 404\n",
      "message: data is already in database\n",
      "title: Masih Panjang! Pindah Ibu Kota ke Nusantara Diprediksi Bisa 30 Tahun\n",
      "author: Aulia Damayanti - detikFinance\n",
      "date: Senin, 24 Jan 2022 14:26 WIB\n",
      "content: Jakarta - Pemerintah menargetkan pemindahan tahap awal ibu kota negara (IKN) baru ke Nusantara, Kalimantan Timur pada 2024. Rencananya pada 2024 diselenggarakan upacara peringatan kemerdekaan di Istana Negara yang baru.Direktur Eksekutif Institute for Development of Economics and Finance (Indef) Tauhid Ahmad mengatakan jika melihat Undang-Undang IKN yang telah disahkan, masih banyak pekerjaan rumah yang belum dipenuhi untuk memindahkan IKN 2024. Menurutnya IKN bisa mulai berpindah lebih dari 30 tahun lagi.\"Karena otoritas belum dibentuk maksimal dua bulan dibentuk, organisasi lembaganya, kantornya sekretariatnya, planner-nya butuh waktu merekrut banyak orang dan ahli perencana dan sebagainya. Kita melihat UU tersebut, nggak akan cepat untuk memindahkan IKN bisa 10 bahkan lebih panjang 30 tahun lebih,\" ucanya kepada detikcom, Senin (24/1/2022).\n",
      "    googletag.cmd.push(function() { googletag.display('div-gpt-ad-1618601354128-0'); });\n",
      "  Baca juga: Seberapa Mendesak Proyek Ibu Kota Baru Saat Ekonomi-Pandemi Belum Pulih?Selain itu, proyek ibu kota baru juga dianggap bukan solusi dalam pemulihan ekonomi negara yang masih dihadapkan dengan ancaman varian Omicron. Saat ini seharusnya pemerintah memikirkan ancaman Omicron di samping mengantisipasi dampaknya ke perekonomian.\"Dengan demikian, urgensi dari IKN ini tidak mendesak dan tidak bisa dilakukan pada 2024. Dengan ancaman inflasi dan Omicron bisa jadi kemungkinan anggaran negara juga bisa bertambah,\" ujarnya.Selain itu, dari segi perekonomian, sumbangsih IKN baru terhadap pertumbuhan ekonomi hanya sebesar 0,02%. Apa lagi tingkat pertumbuhan penduduk diprediksi masih lebih besar di Pulau Jawa.\"Ekonomi kita ini 58% tumbuh karena konsumsi, konsumsi ini ekuivalen dengan jumlah penduduk, Sedangkan urbanisasi diprediksi akan makin besar di pulau Jawa. Konsepnya Kalimantan ini dibangun pemerintahan bukan pindah ekonomi,\" ucapnya.Baca juga: Istana Negara di Nusantara Rampung 2024, Ini Kesiapan hingga FasilitasnyaUntuk saat ini, jika pemerintah ingin meningkatkan perekonomian Kalimantan Timur harus dibangun pusat-pusat perekonomiannya dan infrastruktur.\"Misalnya di sana industri migas, industri perkebunan, pertambangan, industrialisasi yang dibangun. Kemudian dibangun infrastrukturnya, pelabuhannya. Itu yang dibangun bukan Ibu Kota Negara baru,\" tutupnya.(ara/ara)ibu kota baru ibu kota pindah nusantara \n",
      "url: https://finance.detik.com/properti/belum-pulih/42424220\n"
     ]
    }
   ],
   "source": [
    "if fetch_content.status_code == 200:    \n",
    "    urls_content = json.loads(fetch_content.content.decode())\n",
    "for i in urls_content['data']['hasil']:\n",
    "    print('='*124)\n",
    "    print('status:',i['status'])\n",
    "    print('message:',i['message'])\n",
    "    print('title:',i['title'])\n",
    "    print('author:',i['author'])\n",
    "    print('date:',i['date'])\n",
    "    print('content:',i['content'])\n",
    "    print('url:',i['url'])"
   ]
  }
 ],
 "metadata": {
  "kernelspec": {
   "display_name": "Python 3",
   "language": "python",
   "name": "python3"
  },
  "language_info": {
   "codemirror_mode": {
    "name": "ipython",
    "version": 3
   },
   "file_extension": ".py",
   "mimetype": "text/x-python",
   "name": "python",
   "nbconvert_exporter": "python",
   "pygments_lexer": "ipython3",
   "version": "3.7.4"
  }
 },
 "nbformat": 4,
 "nbformat_minor": 2
}
